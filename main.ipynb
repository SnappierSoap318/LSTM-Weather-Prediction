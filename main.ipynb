{
 "cells": [
  {
   "cell_type": "code",
   "execution_count": 1,
   "metadata": {},
   "outputs": [],
   "source": [
    "import pandas as pd\n",
    "import numpy as np\n",
    "from sklearn.preprocessing import MinMaxScaler\n",
    "from sklearn.model_selection import train_test_split\n",
    "from tensorflow.keras.models import Sequential\n",
    "from tensorflow.keras.layers import Dense, LSTM, Dropout\n",
    "import matplotlib.pyplot as plt\n"
   ]
  },
  {
   "cell_type": "code",
   "execution_count": 4,
   "metadata": {},
   "outputs": [],
   "source": [
    "df = pd.read_csv(\".\\weather_data.csv\", parse_dates=['TIMESTAMP'], index_col='TIMESTAMP')"
   ]
  },
  {
   "cell_type": "code",
   "execution_count": 7,
   "metadata": {},
   "outputs": [
    {
     "data": {
      "text/plain": [
       "Index(['AirTC_Avg', 'RH', 'Rain_mm_a', 'BP_Avg'], dtype='object')"
      ]
     },
     "execution_count": 7,
     "metadata": {},
     "output_type": "execute_result"
    }
   ],
   "source": [
    "df.columns"
   ]
  },
  {
   "cell_type": "code",
   "execution_count": 8,
   "metadata": {},
   "outputs": [],
   "source": [
    "temperature = df['AirTC_Avg']\n",
    "pressure = df['BP_Avg']\n",
    "relative_humidity = df['RH']\n",
    "rainfall = df['Rain_mm_a']"
   ]
  },
  {
   "cell_type": "code",
   "execution_count": 9,
   "metadata": {},
   "outputs": [
    {
     "data": {
      "text/plain": [
       "(                     AirTC_Avg    BP_Avg     RH\n",
       " TIMESTAMP                                      \n",
       " 2022-09-22 18:20:00      27.17  1004.233  80.20\n",
       " 2022-09-22 18:21:00      27.12  1004.226  79.91\n",
       " 2022-09-22 18:22:00      27.11  1004.195  80.10\n",
       " 2022-09-22 18:23:00      26.94  1004.183  80.20\n",
       " 2022-09-22 18:24:00      27.05  1004.157  80.20\n",
       " ...                        ...       ...    ...\n",
       " 2023-02-22 16:36:00      31.67  1003.327  59.52\n",
       " 2023-02-22 16:37:00      31.80  1003.318  59.10\n",
       " 2023-02-22 16:38:00      31.58  1003.326  58.41\n",
       " 2023-02-22 16:39:00      31.25  1003.344  59.95\n",
       " 2023-02-22 16:40:00      31.24  1003.288  59.86\n",
       " \n",
       " [169964 rows x 3 columns],\n",
       "                      Rain_mm_a\n",
       " TIMESTAMP                     \n",
       " 2022-09-22 18:20:00        0.3\n",
       " 2022-09-22 18:21:00        0.3\n",
       " 2022-09-22 18:22:00        0.3\n",
       " 2022-09-22 18:23:00        0.3\n",
       " 2022-09-22 18:24:00        0.3\n",
       " ...                        ...\n",
       " 2023-02-22 16:36:00        0.0\n",
       " 2023-02-22 16:37:00        0.0\n",
       " 2023-02-22 16:38:00        0.0\n",
       " 2023-02-22 16:39:00        0.0\n",
       " 2023-02-22 16:40:00        0.0\n",
       " \n",
       " [169964 rows x 1 columns])"
      ]
     },
     "execution_count": 9,
     "metadata": {},
     "output_type": "execute_result"
    }
   ],
   "source": [
    "features = pd.concat([temperature, pressure, relative_humidity], axis=1)\n",
    "\n",
    "target = pd.DataFrame(rainfall)\n",
    "\n",
    "features, target"
   ]
  },
  {
   "cell_type": "code",
   "execution_count": 10,
   "metadata": {},
   "outputs": [],
   "source": [
    "X_train, X_test, y_train, y_test = train_test_split(features, target, test_size=0.2, shuffle=False)"
   ]
  },
  {
   "cell_type": "code",
   "execution_count": 11,
   "metadata": {},
   "outputs": [],
   "source": [
    "sc = MinMaxScaler()\n",
    "# cols = ['Date Time', 'p (mbar)', 'T (degC)', 'rh (%)', 'VPact (mbar)','rho (g/m**3)']"
   ]
  },
  {
   "cell_type": "code",
   "execution_count": 12,
   "metadata": {},
   "outputs": [],
   "source": [
    "X_train_norm = sc.fit_transform(X = X_train)\n",
    "X_test_norm = sc.transform(X_test)"
   ]
  },
  {
   "cell_type": "code",
   "execution_count": 13,
   "metadata": {},
   "outputs": [],
   "source": [
    "y_train_norm = sc.fit_transform(y_train)\n",
    "y_test_norm = sc.transform(y_test)"
   ]
  },
  {
   "cell_type": "code",
   "execution_count": 14,
   "metadata": {},
   "outputs": [],
   "source": [
    "# Define a function to create sequences of input and output data\n",
    "def create_sequences(data, seq_length):\n",
    "    X = []\n",
    "    for i in range(len(data) - seq_length):\n",
    "        X.append(data[i:i+seq_length])\n",
    "    return np.array(X)\n"
   ]
  },
  {
   "cell_type": "code",
   "execution_count": 18,
   "metadata": {},
   "outputs": [],
   "source": [
    "# Create sequences of input and output data\n",
    "seq_length = 1152\n",
    "X_train_norm = create_sequences(X_train, seq_length)\n",
    "y_train_sequence = create_sequences(y_train, seq_length)"
   ]
  },
  {
   "cell_type": "code",
   "execution_count": 19,
   "metadata": {},
   "outputs": [
    {
     "data": {
      "text/plain": [
       "((20044, 1152, 1), (20044, 1152, 6))"
      ]
     },
     "execution_count": 19,
     "metadata": {},
     "output_type": "execute_result"
    }
   ],
   "source": [
    "y_train.shape, X_train_norm.shape"
   ]
  },
  {
   "cell_type": "code",
   "execution_count": 20,
   "metadata": {},
   "outputs": [],
   "source": [
    "# Define the LSTM model\n",
    "model = Sequential()\n",
    "model.add(LSTM(units=64, return_sequences=True, input_shape=(X_train_norm.shape[1], X_train_norm.shape[2])))\n",
    "model.add(Dropout(0.2))\n",
    "model.add(LSTM(units=64))\n",
    "model.add(Dropout(0.2))\n",
    "model.add(Dense(units=1))\n",
    "model.compile(optimizer='adam', loss='mse')\n"
   ]
  },
  {
   "cell_type": "code",
   "execution_count": 21,
   "metadata": {},
   "outputs": [
    {
     "data": {
      "text/plain": [
       "[<keras.layers.recurrent_v2.LSTM at 0x247820f7490>,\n",
       " <keras.layers.core.dropout.Dropout at 0x2478210db50>,\n",
       " <keras.layers.recurrent_v2.LSTM at 0x24781a46040>,\n",
       " <keras.layers.core.dropout.Dropout at 0x247820fdf40>,\n",
       " <keras.layers.core.dense.Dense at 0x247844a0ca0>]"
      ]
     },
     "execution_count": 21,
     "metadata": {},
     "output_type": "execute_result"
    }
   ],
   "source": [
    "model.layers"
   ]
  },
  {
   "cell_type": "code",
   "execution_count": 24,
   "metadata": {},
   "outputs": [
    {
     "name": "stdout",
     "output_type": "stream",
     "text": [
      "Epoch 1/5\n",
      "557/557 [==============================] - 239s 429ms/step - loss: 0.0240\n",
      "Epoch 2/5\n",
      "557/557 [==============================] - 230s 413ms/step - loss: 0.0231\n",
      "Epoch 3/5\n",
      "557/557 [==============================] - 239s 430ms/step - loss: 0.0230\n",
      "Epoch 4/5\n",
      "557/557 [==============================] - 223s 400ms/step - loss: 0.0230\n",
      "Epoch 5/5\n",
      "557/557 [==============================] - 222s 399ms/step - loss: 0.0230\n"
     ]
    }
   ],
   "source": [
    "# Train the model\n",
    "history = model.fit(X_train_norm, y_train, epochs=5, batch_size=36, shuffle=False)"
   ]
  },
  {
   "cell_type": "code",
   "execution_count": 30,
   "metadata": {},
   "outputs": [],
   "source": [
    "from tensorflow import keras\n",
    "\n",
    "dataset_train = keras.preprocessing.timeseries_dataset_from_array(\n",
    "    data=X_train,\n",
    "    targets=y_train,\n",
    "    sequence_length=seq_length,\n",
    "    sampling_rate=6,\n",
    "    batch_size=64,\n",
    ")\n"
   ]
  },
  {
   "cell_type": "code",
   "execution_count": 31,
   "metadata": {},
   "outputs": [
    {
     "data": {
      "text/plain": [
       "<BatchDataset shapes: ((None, None, 6), (None, 1152, 1)), types: (tf.float64, tf.float64)>"
      ]
     },
     "execution_count": 31,
     "metadata": {},
     "output_type": "execute_result"
    }
   ],
   "source": [
    "dataset_train"
   ]
  },
  {
   "cell_type": "code",
   "execution_count": 26,
   "metadata": {},
   "outputs": [],
   "source": [
    "X_test_norm = create_sequences(X_test, seq_length)"
   ]
  },
  {
   "cell_type": "code",
   "execution_count": 32,
   "metadata": {},
   "outputs": [],
   "source": [
    "dataset_val = keras.preprocessing.timeseries_dataset_from_array(\n",
    "    X_test_norm,\n",
    "    y_test,\n",
    "    sequence_length=seq_length,\n",
    "    sampling_rate=6,\n",
    "    batch_size=64,\n",
    ")"
   ]
  },
  {
   "cell_type": "code",
   "execution_count": 33,
   "metadata": {},
   "outputs": [
    {
     "name": "stdout",
     "output_type": "stream",
     "text": [
      "Model: \"Weather_forcaster\"\n",
      "_________________________________________________________________\n",
      " Layer (type)                Output Shape              Param #   \n",
      "=================================================================\n",
      " input_1 (InputLayer)        [(None, 1152, 6)]         0         \n",
      "                                                                 \n",
      " lstm_2 (LSTM)               (None, 32)                4992      \n",
      "                                                                 \n",
      " dense_1 (Dense)             (None, 1)                 33        \n",
      "                                                                 \n",
      "=================================================================\n",
      "Total params: 5,025\n",
      "Trainable params: 5,025\n",
      "Non-trainable params: 0\n",
      "_________________________________________________________________\n"
     ]
    }
   ],
   "source": [
    "for batch in dataset_train.take(1):\n",
    "    inputs, targets = batch\n",
    "    \n",
    "inputs = keras.layers.Input(shape=(inputs.shape[1], inputs.shape[2]))\n",
    "lstm_out = keras.layers.LSTM(32)(inputs)\n",
    "outputs = keras.layers.Dense(1)(lstm_out)\n",
    "\n",
    "model = keras.Model(name=\"Weather_forcaster\",inputs=inputs, outputs=outputs)\n",
    "model.compile(optimizer=keras.optimizers.Adam(learning_rate=0.001), loss=\"mse\")\n",
    "model.summary()"
   ]
  },
  {
   "cell_type": "code",
   "execution_count": 34,
   "metadata": {},
   "outputs": [
    {
     "name": "stdout",
     "output_type": "stream",
     "text": [
      "Epoch 1/15\n",
      "224/224 [==============================] - 36s 157ms/step - loss: 0.0311\n",
      "Epoch 2/15\n",
      "224/224 [==============================] - 35s 155ms/step - loss: 0.0306\n",
      "Epoch 3/15\n",
      "224/224 [==============================] - 34s 154ms/step - loss: 0.0306\n",
      "Epoch 4/15\n",
      "224/224 [==============================] - 35s 155ms/step - loss: 0.0306\n",
      "Epoch 5/15\n",
      "224/224 [==============================] - 35s 155ms/step - loss: 0.0306\n",
      "Epoch 6/15\n",
      "224/224 [==============================] - 35s 155ms/step - loss: 0.0306\n",
      "Epoch 7/15\n",
      "224/224 [==============================] - 34s 153ms/step - loss: 0.0306\n",
      "Epoch 8/15\n",
      "224/224 [==============================] - 34s 154ms/step - loss: 0.0306\n",
      "Epoch 9/15\n",
      "224/224 [==============================] - 34s 154ms/step - loss: 0.0306\n",
      "Epoch 10/15\n",
      "224/224 [==============================] - 34s 154ms/step - loss: 0.0306\n",
      "Epoch 11/15\n",
      "224/224 [==============================] - 34s 154ms/step - loss: 0.0306\n",
      "Epoch 12/15\n",
      "224/224 [==============================] - 34s 154ms/step - loss: 0.0306\n",
      "Epoch 13/15\n",
      "224/224 [==============================] - 35s 154ms/step - loss: 0.0306\n",
      "Epoch 14/15\n",
      "224/224 [==============================] - 35s 156ms/step - loss: 0.0306\n",
      "Epoch 15/15\n",
      "224/224 [==============================] - 36s 161ms/step - loss: 0.0306\n"
     ]
    }
   ],
   "source": [
    "history = model.fit(\n",
    "    dataset_train,\n",
    "    epochs=15,\n",
    "    validation_data=dataset_val\n",
    ")"
   ]
  },
  {
   "cell_type": "code",
   "execution_count": 40,
   "metadata": {},
   "outputs": [
    {
     "data": {
      "text/plain": [
       "array([[0.00331946],\n",
       "       [0.00331946],\n",
       "       [0.00331946],\n",
       "       ...,\n",
       "       [0.00331946],\n",
       "       [0.00331946],\n",
       "       [0.00331946]], dtype=float32)"
      ]
     },
     "execution_count": 40,
     "metadata": {},
     "output_type": "execute_result"
    }
   ],
   "source": [
    "history.model.predict(X_test_norm)"
   ]
  },
  {
   "cell_type": "code",
   "execution_count": 45,
   "metadata": {},
   "outputs": [],
   "source": [
    "r_mean = rainfall.mean(axis=0)\n",
    "r_std = rainfall.std(axis=0)\n",
    "\n"
   ]
  },
  {
   "cell_type": "code",
   "execution_count": 54,
   "metadata": {},
   "outputs": [
    {
     "ename": "TypeError",
     "evalue": "'SkipDataset' object is not subscriptable",
     "output_type": "error",
     "traceback": [
      "\u001b[1;31m---------------------------------------------------------------------------\u001b[0m",
      "\u001b[1;31mTypeError\u001b[0m                                 Traceback (most recent call last)",
      "Cell \u001b[1;32mIn[54], line 1\u001b[0m\n\u001b[1;32m----> 1\u001b[0m dataset_val\u001b[39m.\u001b[39;49mskip(\u001b[39m12\u001b[39;49m)[\u001b[39m1\u001b[39;49m]\n",
      "\u001b[1;31mTypeError\u001b[0m: 'SkipDataset' object is not subscriptable"
     ]
    }
   ],
   "source": [
    "dataset_val.skip(12)[1]"
   ]
  },
  {
   "cell_type": "code",
   "execution_count": 27,
   "metadata": {},
   "outputs": [],
   "source": [
    "# Generate predictions for the test set\n",
    "y_pred = model.predict(X_test_norm)"
   ]
  },
  {
   "cell_type": "code",
   "execution_count": 28,
   "metadata": {},
   "outputs": [],
   "source": [
    "y_pred = pd.DataFrame(y_pred)"
   ]
  },
  {
   "cell_type": "code",
   "execution_count": 29,
   "metadata": {},
   "outputs": [
    {
     "data": {
      "image/png": "[encoded data removed]",
      "text/plain": [
       "<Figure size 640x480 with 1 Axes>"
      ]
     },
     "metadata": {},
     "output_type": "display_data"
    }
   ],
   "source": [
    "# Plot the actual and predicted values\n",
    "fig, ax = plt.subplots()\n",
    "ax.plot(y_test, label='Actual')\n",
    "ax.plot(y_pred, label='Predicted')\n",
    "ax.set_xlabel('Time')\n",
    "ax.set_ylabel('Rainfall (mm)')\n",
    "ax.legend()\n",
    "plt.show()"
   ]
  }
 ],
 "metadata": {
  "kernelspec": {
   "display_name": ".venv",
   "language": "python",
   "name": "python3"
  },
  "language_info": {
   "codemirror_mode": {
    "name": "ipython",
    "version": 3
   },
   "file_extension": ".py",
   "mimetype": "text/x-python",
   "name": "python",
   "nbconvert_exporter": "python",
   "pygments_lexer": "ipython3",
   "version": "3.9.13"
  },
  "orig_nbformat": 4
 },
 "nbformat": 4,
 "nbformat_minor": 2
}
